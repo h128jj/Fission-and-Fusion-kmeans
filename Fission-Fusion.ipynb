{
 "cells": [
  {
   "cell_type": "code",
   "execution_count": 29,
   "metadata": {},
   "outputs": [
    {
     "name": "stdout",
     "output_type": "stream",
     "text": [
      "The autoreload extension is already loaded. To reload it, use:\n",
      "  %reload_ext autoreload\n"
     ]
    }
   ],
   "source": [
    "%load_ext autoreload\n",
    "%autoreload 2\n",
    "#Basic package\n",
    "import math\n",
    "import random\n",
    "import time\n",
    "import numpy as np\n",
    "import pandas as pd\n",
    "import xlwt\n",
    "#ML\n",
    "from scipy.spatial.distance import cdist\n",
    "from scipy.cluster.vq import vq\n",
    "from sklearn.preprocessing import MinMaxScaler\n",
    "from sklearn.cluster import KMeans  \n",
    "from sklearn.datasets import make_blobs\n",
    "from sklearn import cluster, datasets\n",
    "#Plot\n",
    "from matplotlib.pyplot import *\n",
    "from pylab import *\n",
    "import matplotlib.pyplot as plt\n",
    "#functions for the framework\n",
    "from util import *\n",
    "\n",
    "import warnings\n",
    "warnings.filterwarnings('ignore')"
   ]
  },
  {
   "cell_type": "markdown",
   "metadata": {},
   "source": [
    "# Data visulazation"
   ]
  },
  {
   "cell_type": "markdown",
   "metadata": {},
   "source": [
    "* a1.csv: 20 clusters\n",
    "* a2.csv: 35 clusters\n",
    "* a3.csv: 50 clusters\n",
    "* s1.csv: 9% overlap\n",
    "* s2.csv: 22% overlap\n",
    "* s3.csv: 41% overlap\n",
    "* s4.csv: 44% overlap\n",
    "* unbalance.csv\n",
    "* dim032.csv  \n",
    "* dim064.csv\n",
    "* dim128.csv\n",
    "* dim256.csv\n",
    "* dim512.csv\n",
    "* dim 1024.csv\n",
    "* birch1.csv\n",
    "* birch2.csv\n",
    "* birch3.csv"
   ]
  },
  {
   "cell_type": "code",
   "execution_count": 30,
   "metadata": {},
   "outputs": [],
   "source": [
    "##################\n",
    "data = 'a1.csv'\n",
    "##################"
   ]
  },
  {
   "cell_type": "markdown",
   "metadata": {},
   "source": [
    "##  Visual Raw Data and Ground Truth"
   ]
  },
  {
   "cell_type": "code",
   "execution_count": 33,
   "metadata": {},
   "outputs": [
    {
     "data": {
      "text/plain": [
       "Text(0.5, 1.0, 'a1')"
      ]
     },
     "execution_count": 33,
     "metadata": {},
     "output_type": "execute_result"
    },
    {
     "data": {
      "image/png": "[encoded data removed]",
      "text/plain": [
       "<Figure size 432x288 with 1 Axes>"
      ]
     },
     "metadata": {
      "needs_background": "light"
     },
     "output_type": "display_data"
    }
   ],
   "source": [
    "dataMat = pd.read_csv('./Raw_data/all/'+data, header=None, dtype=np.float64).values/1000\n",
    "plt.scatter(dataMat[:, 0],dataMat[:, 1], s=5, c='0.6', marker='*')\n",
    "gt = pd.read_csv('./Groundtruth/all/'+data, dtype=np.float64).values/1000\n",
    "plt.scatter(gt[:, 0],gt[:, 1], s=15, c='r', marker='o')\n",
    "plt.title(data.strip(\".csv\"))"
   ]
  },
  {
   "cell_type": "markdown",
   "metadata": {},
   "source": [
    "# Experiment Setting\n",
    "\n",
    "- Proposed Fission Fusion Framework\n",
    "**One fit many detection method**\n",
    " - standard deviation \n",
    " - radius\n",
    "**Many fit one detection method**\n",
    " - pairwise distance\n",
    " - Voronoi (seems to work better for clusters with higher seperation)"
   ]
  },
  {
   "cell_type": "code",
   "execution_count": 43,
   "metadata": {},
   "outputs": [],
   "source": [
    "def expriment(data, trials, data_gt=None, ofm_method='std', mfo_method='distance', init_method='random', maxIter=30, radius_method='min', start_epsilon=1,ofm_adapt_shape=False, \n",
    "                                               mfo_adapt_shape=False):\n",
    "    '''\n",
    "    ofm_method='std'\n",
    "    ofm_method='radius';   start_epsilon='1';  radius_method='min'/'median'\n",
    "    mfo_method='distance'\n",
    "    mfo_method='voronoi'\n",
    "    init_method='random'\n",
    "    init_method='k-means++'\n",
    "    '''\n",
    "    if data_gt==None:\n",
    "        data_gt = data\n",
    "    ####raw_data####\n",
    "    X = pd.read_csv('./Raw_data/all/'+data, header=None, dtype=np.float64).values \n",
    "    ####ground truth####\n",
    "    gt = pd.read_csv('./Groundtruth/all/'+data_gt, dtype=np.float64).values\n",
    "    ##################\n",
    "    ####setting####\n",
    "    ##################\n",
    "    k = len(gt)\n",
    "    SSE_list = []\n",
    "    CI_list = []\n",
    "    Iters = []\n",
    "    Success_rate = 0 \n",
    "    ##################\n",
    "    ####Groud truth SSE\n",
    "    ##################\n",
    "    gt_model = KMeans(n_clusters=k,init=gt, random_state = 0, n_init=1, algorithm='full').fit(X)\n",
    "    gt_sse = gt_model.inertia_\n",
    "    ##################          \n",
    "    #Main Loop\n",
    "    ################## \n",
    "    start_time=time.time()\n",
    "    next_seed = 0\n",
    "    for i in range(trials):    \n",
    "        store_C,SSE,next_seed, _,_ = FissionFusion(X, k, seed=next_seed, \n",
    "                                               ofm_method=ofm_method, \n",
    "                                               mfo_method='distance',\n",
    "                                               init_method=init_method, \n",
    "                                               radius_method=radius_method,\n",
    "                                               maxIter=2*k,\n",
    "                                               start_epsilon=start_epsilon,\n",
    "                                               ofm_adapt_shape=False, \n",
    "                                               mfo_adapt_shape=False)\n",
    "        ##################          \n",
    "        #Centroid Index\n",
    "        ################## \n",
    "        CI = Centroid_Index(gt,store_C[-1])\n",
    "        CI_list.append(CI)\n",
    "        SSE_list.append(SSE[-1])\n",
    "        if CI == 0:\n",
    "            Success_rate+=1 \n",
    "        Iters.append(len(store_C))\n",
    "    Success_rate = Success_rate/trials * 100\n",
    "    AMR = np.mean(CI_list)/k\n",
    "    SSE_ratio = np.array(SSE_list)/gt_sse\n",
    "    SSE_ratio_mean = np.mean(SSE_ratio)\n",
    "    SSE_ratio_std = np.std(SSE_ratio)\n",
    "    Iters_mean = np.mean(Iters)\n",
    "    elapse_time = time.time()-start_time\n",
    "    \n",
    "    return (Success_rate, AMR, SSE_ratio_mean, SSE_ratio_std, Iters_mean, elapse_time)"
   ]
  },
  {
   "cell_type": "markdown",
   "metadata": {},
   "source": [
    "## Experiment on Datasets"
   ]
  },
  {
   "cell_type": "code",
   "execution_count": 40,
   "metadata": {
    "scrolled": true
   },
   "outputs": [
    {
     "name": "stdout",
     "output_type": "stream",
     "text": [
      "a1.csv\n",
      "a2.csv\n",
      "a3.csv\n"
     ]
    },
    {
     "data": {
      "text/html": [
       "<div>\n",
       "<style scoped>\n",
       "    .dataframe tbody tr th:only-of-type {\n",
       "        vertical-align: middle;\n",
       "    }\n",
       "\n",
       "    .dataframe tbody tr th {\n",
       "        vertical-align: top;\n",
       "    }\n",
       "\n",
       "    .dataframe thead th {\n",
       "        text-align: right;\n",
       "    }\n",
       "</style>\n",
       "<table border=\"1\" class=\"dataframe\">\n",
       "  <thead>\n",
       "    <tr style=\"text-align: right;\">\n",
       "      <th></th>\n",
       "      <th>dataset</th>\n",
       "      <th>method</th>\n",
       "      <th>success_rate</th>\n",
       "      <th>AMR</th>\n",
       "      <th>SSE_ratio_mean</th>\n",
       "      <th>SSE_ratio_std</th>\n",
       "      <th>Iters</th>\n",
       "      <th>Time</th>\n",
       "    </tr>\n",
       "  </thead>\n",
       "  <tbody>\n",
       "    <tr>\n",
       "      <th>0</th>\n",
       "      <td>a1.csv</td>\n",
       "      <td>radius</td>\n",
       "      <td>100.0</td>\n",
       "      <td>0.0</td>\n",
       "      <td>0.999633</td>\n",
       "      <td>0.000003</td>\n",
       "      <td>21.5</td>\n",
       "      <td>0.906013</td>\n",
       "    </tr>\n",
       "    <tr>\n",
       "      <th>1</th>\n",
       "      <td>a1.csv</td>\n",
       "      <td>std</td>\n",
       "      <td>100.0</td>\n",
       "      <td>0.0</td>\n",
       "      <td>0.999629</td>\n",
       "      <td>0.000000</td>\n",
       "      <td>41.0</td>\n",
       "      <td>1.467965</td>\n",
       "    </tr>\n",
       "    <tr>\n",
       "      <th>3</th>\n",
       "      <td>a2.csv</td>\n",
       "      <td>radius</td>\n",
       "      <td>100.0</td>\n",
       "      <td>0.0</td>\n",
       "      <td>0.999957</td>\n",
       "      <td>0.000001</td>\n",
       "      <td>6.0</td>\n",
       "      <td>0.447349</td>\n",
       "    </tr>\n",
       "    <tr>\n",
       "      <th>4</th>\n",
       "      <td>a2.csv</td>\n",
       "      <td>std</td>\n",
       "      <td>100.0</td>\n",
       "      <td>0.0</td>\n",
       "      <td>0.999911</td>\n",
       "      <td>0.000000</td>\n",
       "      <td>71.0</td>\n",
       "      <td>4.295982</td>\n",
       "    </tr>\n",
       "    <tr>\n",
       "      <th>6</th>\n",
       "      <td>a3.csv</td>\n",
       "      <td>radius</td>\n",
       "      <td>100.0</td>\n",
       "      <td>0.0</td>\n",
       "      <td>0.999963</td>\n",
       "      <td>0.000008</td>\n",
       "      <td>9.5</td>\n",
       "      <td>1.167655</td>\n",
       "    </tr>\n",
       "    <tr>\n",
       "      <th>7</th>\n",
       "      <td>a3.csv</td>\n",
       "      <td>std</td>\n",
       "      <td>100.0</td>\n",
       "      <td>0.0</td>\n",
       "      <td>0.999956</td>\n",
       "      <td>0.000000</td>\n",
       "      <td>10.0</td>\n",
       "      <td>1.149963</td>\n",
       "    </tr>\n",
       "  </tbody>\n",
       "</table>\n",
       "</div>"
      ],
      "text/plain": [
       "  dataset  method  success_rate  AMR  SSE_ratio_mean  SSE_ratio_std  Iters  \\\n",
       "0  a1.csv  radius         100.0  0.0        0.999633       0.000003   21.5   \n",
       "1  a1.csv     std         100.0  0.0        0.999629       0.000000   41.0   \n",
       "3  a2.csv  radius         100.0  0.0        0.999957       0.000001    6.0   \n",
       "4  a2.csv     std         100.0  0.0        0.999911       0.000000   71.0   \n",
       "6  a3.csv  radius         100.0  0.0        0.999963       0.000008    9.5   \n",
       "7  a3.csv     std         100.0  0.0        0.999956       0.000000   10.0   \n",
       "\n",
       "       Time  \n",
       "0  0.906013  \n",
       "1  1.467965  \n",
       "3  0.447349  \n",
       "4  4.295982  \n",
       "6  1.167655  \n",
       "7  1.149963  "
      ]
     },
     "execution_count": 40,
     "metadata": {},
     "output_type": "execute_result"
    }
   ],
   "source": [
    "experiment_record = {}\n",
    "datasets = ['a1.csv', 'a2.csv', 'a3.csv']\n",
    "           #'s1.csv', 's2.csv', 's3.csv','s4.csv',\n",
    "           #'unbalance.csv','dim032.csv','birch1.csv']\n",
    "\n",
    "#datasets_gt = ['a1.csv', 'a2.csv']\n",
    "algorithm = ['radius','std']\n",
    "\n",
    "for index, data in enumerate(datasets):\n",
    "    print (data)\n",
    "    for sub_index, ofm_method in enumerate(algorithm):\n",
    "        Success_rate, AMR, SSE_ratio_mean, SSE_ratio_std, Iters_mean, elapse_time = expriment(data, trials=2, \n",
    "        data_gt=None, ofm_method=ofm_method, init_method='random', radius_method='min', start_epsilon=1)\n",
    "        experiment_record[index*3+sub_index]= {'dataset': data,\n",
    "                                               'method': ofm_method,\n",
    "                                               'success_rate': Success_rate,\n",
    "                                               'AMR': AMR,\n",
    "                                               'SSE_ratio_mean': SSE_ratio_mean,\n",
    "                                               'SSE_ratio_std': SSE_ratio_std,\n",
    "                                               'Iters': Iters_mean,\n",
    "                                               'Time': elapse_time}\n",
    "\n",
    "    \n",
    "pd.DataFrame.from_dict(experiment_record, orient='index')"
   ]
  },
  {
   "cell_type": "code",
   "execution_count": null,
   "metadata": {},
   "outputs": [],
   "source": [
    "#save dataframe\n",
    "pd.DataFrame.from_dict(experiment_record, orient='index').to_csv('fission_fusion.csv')"
   ]
  },
  {
   "cell_type": "markdown",
   "metadata": {},
   "source": [
    "# Simple Test"
   ]
  },
  {
   "cell_type": "code",
   "execution_count": 44,
   "metadata": {
    "scrolled": false
   },
   "outputs": [],
   "source": [
    "X = dataMat\n",
    "store_C,sse,_,_,_ = FissionFusion(X, 20, 0)"
   ]
  },
  {
   "cell_type": "code",
   "execution_count": 46,
   "metadata": {},
   "outputs": [
    {
     "data": {
      "text/plain": [
       "<Figure size 432x288 with 0 Axes>"
      ]
     },
     "metadata": {},
     "output_type": "display_data"
    },
    {
     "data": {
      "image/png": "[encoded data removed]",
      "text/plain": [
       "<Figure size 432x288 with 2 Axes>"
      ]
     },
     "metadata": {
      "needs_background": "light"
     },
     "output_type": "display_data"
    }
   ],
   "source": [
    "#--------------------------------------------------------------------------------\n",
    "#------------------------------------Figure--------------------------------------\n",
    "#--------------------------------------------------------------------------------\n",
    "figure()\n",
    "fig = plt.figure()\n",
    "#Fisrt plot\n",
    "plt.subplot(121)\n",
    "ax = plt.subplot(221)\n",
    "ax.set_title('Llyod Kmeans')\n",
    "plot(dataMat[:, 0], dataMat[:, 1], 'k*',markerfacecolor=(0.5, 0.5, 0.5, 0.1), markersize=4)\n",
    "plot(store_C[0][:, 0],store_C[0][:, 1], 'r+')\n",
    "'''\n",
    "i = 0\n",
    "for a,b in zip(store_C[0][:, 0],store_C[0][:, 1]):\n",
    "    i += 1\n",
    "    plt.text(a+2, b+2, '%.0f'% i, color = \"G\", ha='center', va= 'bottom',fontsize=9)\n",
    "'''\n",
    "#Second plot\n",
    "plt.subplot(122)\n",
    "ax = plt.subplot(222)\n",
    "ax.set_title('Fission-Fusion Kmeans')\n",
    "plot(dataMat[:, 0], dataMat[:, 1], 'k*',markerfacecolor=(0.5, 0.5, 0.5, 0.1), markersize=4)\n",
    "plot(store_C[-1][:, 0],store_C[-1][:, 1], 'r+')\n",
    "'''\n",
    "i = 0\n",
    "for a,b in zip(store_C[-1][:, 0],store_C[-1][:, 1]):\n",
    "    i += 1\n",
    "    plt.text(a+2, b+2, '%.0f'% i, color = \"G\", ha='center', va= 'bottom',fontsize=9)\n",
    "'''\n",
    "#adjust entire empty space\n",
    "fig.tight_layout()"
   ]
  }
 ],
 "metadata": {
  "kernelspec": {
   "display_name": "Python 3",
   "language": "python",
   "name": "python3"
  },
  "language_info": {
   "codemirror_mode": {
    "name": "ipython",
    "version": 3
   },
   "file_extension": ".py",
   "mimetype": "text/x-python",
   "name": "python",
   "nbconvert_exporter": "python",
   "pygments_lexer": "ipython3",
   "version": "3.8.5"
  }
 },
 "nbformat": 4,
 "nbformat_minor": 4
}
